{
 "cells": [
  {
   "cell_type": "markdown",
   "metadata": {},
   "source": [
    "# Production 1: Setting Up A Repo"
   ]
  },
  {
   "cell_type": "markdown",
   "metadata": {},
   "source": [
    "## Introduction\n",
    "\n",
    "+ Working with code in production is hard. Rarely we will have a chance to work on a greenfield development and will get a chance to define all of its specifications.\n",
    "+ Sometimes, we may be offered the option of scraping a system and starting from scratch. This option should be considered carefully and, most of the time, rejected.\n",
    "+ Working with legacy code will be the norm:\n",
    "\n",
    "    - Legacy code includes our own code.\n",
    "    - Legacy code may have been written by colleagues with different approaches, philosophies, and skills.\n",
    "    - Legacy code may have been written for old technology.\n",
    "\n",
    "+ Most of the time, legacy code works and *this* is the reason we are working with it.\n",
    "\n",
    "## Software Entropy\n",
    "\n",
    "+ Software entroy is the natural evolution of code towards chaos.\n",
    "+ Messy code is a natural consequence of change:\n",
    "\n",
    "    - Requirements change.\n",
    "    - Technology change.\n",
    "    - Business processes change.\n",
    "    - People change.\n",
    "\n",
    "+ Software entropy can be managed. Some techniques include:\n",
    "\n",
    "    - Apply a code style.\n",
    "    - Reduce inconsistency.\n",
    "    - Continuous refactoring.\n",
    "    - Apply reasonable architectures.\n",
    "    - Apply design patterns.\n",
    "    - Testing and CI/CD.\n",
    "    - Documentation.\n",
    "\n",
    "+ *Technical debt* is future work that is owed to fix issues with the current codebase.\n",
    "+ Technical debt has principal and interest: complexity spreads and what was a simple *duct tape* solution becomes the source of complexity in downstream consumers.\n",
    "+ ML systems are complex: they involve many components and the interaction among those components determines the behaviour of the system. Adding additional complexity by using poor software development practices can be avoided.\n",
    "+ Building ML Systems is most of the time a team sport. Our tools should be designed for collaboration."
   ]
  },
  {
   "cell_type": "markdown",
   "metadata": {},
   "source": [
    "# A Reference Architecture"
   ]
  },
  {
   "cell_type": "markdown",
   "metadata": {},
   "source": [
    "## What are we building?\n",
    "\n",
    "+ [Agrawal and others](https://arxiv.org/abs/1909.00084) propose the reference architecture below.\n",
    "\n",
    "![Flock reference architecture (Agrawal etl al, 2019)](./images/01_flock_ref_arhitecture.png)\n",
    "\n",
    "+ Through the course, we will write the code in Python for the different components of this architecture. \n"
   ]
  },
  {
   "cell_type": "markdown",
   "metadata": {},
   "source": [
    "# Source Control\n",
    "\n",
    "\n",
    "\n",
    "## Git and Github\n",
    "\n",
    "+ Git is a version control system that lets you manage and keep track of your source code history.\n",
    "+ If you have not done so, please get an account on [Github](https://github.com/) and setup SSH authentication:\n",
    "\n",
    "    - Check for [existing SSH keys](https://docs.github.com/en/authentication/connecting-to-github-with-ssh/checking-for-existing-ssh-keys).\n",
    "    - If needed, create an [SSH Key](https://docs.github.com/en/authentication/connecting-to-github-with-ssh/generating-a-new-ssh-key-and-adding-it-to-the-ssh-agent).\n",
    "    - [Add SSH key](https://docs.github.com/en/authentication/connecting-to-github-with-ssh/adding-a-new-ssh-key-to-your-github-account#adding-a-new-ssh-key-to-your-account) to your Github account.\n",
    "\n",
    "+ If you need a refresher of Git commands, a good reference is [Pro Git](https://git-scm.com/book/en/v2) (Chacon and Straub, 2014).\n",
    "\n",
    "## What do we include in a commit?\n",
    "\n",
    "* Generally, we will use Git to maintain data transformation and movement *code*.\n",
    "* It is good practice to not use Git to maintain data inputs or outputs of any kind. \n",
    "* Some exceptions include: settings, experimental notebooks used to document design choices. \n",
    "* Things to avoid putting in a repo: Personal Identity Information (PII), passwords and keys.\n",
    "\n",
    "## Version Control System Best Practices\n",
    "\n",
    "+ Commit early and commit often.\n",
    "+ Use meaningful commits:\n",
    "\n",
    "    - The drawback of commiting very frequently is that there will be incomplete commits, errors and stepbacks in the commit messages. Commit messages include: \"Committing before switching to another task\", \"Oops\", \"Undoing previous idea\", \"Fire alarm\", etc.\n",
    "    - In Pull Requests, squash commits and write meaningful messages. \n",
    "\n",
    "+ Apply a branch strategy.\n",
    "+ Submit clean pull requests: verify that latest branch is merged and review conflicts.\n",
    "\n",
    "## Commit Messages\n",
    "\n",
    "+ Clear commit messages help document your code and allow you to trace the reaoning behind design decisions. \n",
    "+ A few guidelines for writing commit messages:\n",
    "\n",
    "    - Use markdown: Github interprets commit messages as markdown.\n",
    "    - First line is a subject:\n",
    "\n",
    "        * No period at the end.\n",
    "        * Use uppercase as appropriate.\n",
    "    \n",
    "    - Write in imperative form in the subject line and whenever possible:\n",
    "\n",
    "        * Do:  \"Add connection to db\", \"Connect to db\"\n",
    "        * Do not:  \"This commit adds a connection to db\", \"Connection to db added\"\n",
    "\n",
    "    - The body of the message should explain why the change was made and not what was changed.\n",
    "\n",
    "        * Diff will show changes in the code, but not the reasoning behind it.\n",
    "\n",
    "    - Same rules apply for Pull Requests.\n",
    "\n",
    "+ Many of these points are taken from [How to Write a Git Commit Message](https://cbea.ms/git-commit/) by Chris Beams."
   ]
  },
  {
   "cell_type": "markdown",
   "metadata": {},
   "source": [
    "## Branching Strategies\n",
    "\n",
    "+ When working standalone or in a team, you should consider your [branching strategy](https://www.atlassian.com/agile/software-development/branching).\n",
    "+ A branching strategy is a way to organize the progression of code in your repo. \n",
    "+ In [trunk-based branching strategy](https://www.atlassian.com/continuous-delivery/continuous-integration/trunk-based-development), each developer works based on the *trunk* or *main* branch.\n",
    "\n",
    "![(Ryaboy, 2021)](./images/01_trunk_based_development.png)\n",
    "\n",
    "+ After each bug fix, enhancement, or upgrade is complete, the change is  integrated to *main*.\n",
    "+ Generally, part of a larger Continuous Integration/Continuous Deployment (CI/CD) process."
   ]
  },
  {
   "cell_type": "markdown",
   "metadata": {},
   "source": [
    "## VS Code and Git\n",
    "\n",
    "+ An Interactive Development Environment (IDE) is software to help you code. \n",
    "+ IDEs are, ultimately, a matter of personal taste, but there are advantages to using the popular solutions:\n",
    "\n",
    "    - Active development and bug fixes.\n",
    "    - Plugin and extension ecosystems.\n",
    "    - Active community for help, support, tutorials, etc.\n",
    "\n",
    "+ Avoid the *l33t coder* trap: *vim* and *emacs* may work for some, but *nano* and VS Code are great solutions too. \n",
    "+ Reference: [Using Git source control in VS Code](https://code.visualstudio.com/docs/sourcecontrol/overview).\n",
    "+ A few tips:\n",
    "\n",
    "    - From the source control menu, one can easily stage files, commit, and push/pull to origin.\n",
    "\n",
    "    - Other commands can be accessed via the command pallete (`Ctrl + Shift + P`). For instance, one can select or create a new branch using the option *Git: Checkout to*."
   ]
  },
  {
   "cell_type": "markdown",
   "metadata": {},
   "source": [
    "# Python Virtual Environments\n",
    "\n",
    "+ There are many reasons to control our development environment, including version numbers for Python and all the libraries that we are using:\n",
    "\n",
    "    - Reproducibility: we want to be able to reproduce our process in a production environment with as little change as possible. \n",
    "    - Backup and archiving: saving our work in a way that can be used in the future, despite Python and libraries evolving.\n",
    "    - Collaboration: work with colleagues on different portions of the code involves everyone having a standard platform to run the codebase.\n",
    "\n",
    "+ We can achieve the objectives above in many ways, including vritualizing our environments, packaging our code in containers, and using virtual machines, among others.\n",
    "+ Most of the time, creating a virtual environment will be part of the initial development setup. This vritual environment will help us *freeze* the python version and some version libraries. "
   ]
  },
  {
   "cell_type": "markdown",
   "metadata": {},
   "source": [
    "## Setting up the environment\n",
    "\n",
    "### Using venv\n",
    "\n",
    "+ The simplest way to add a new virtual environment is to use the command: `python -m venv env`.\n",
    "+ This command will start a new virtual environment in the subfolder `./env`.\n",
    "+ To *activate* this environment use `./env/Scripts/Activate.ps` (windows).\n",
    "+ Optionally, consider the Python add-on for VS Code that activates the environment automatically for you.\n",
    "\n",
    "### Conda\n",
    "\n",
    "+ [Conda](https://conda.io/projects/conda/en/latest/user-guide/getting-started.html) is a command line tool for package and environment management.\n",
    "+ From the terminal, create a virtual environment with: `conda create -n <env-name>`. For example, `conda create -n scale2prod` creates a new environment called `scale2prod`.\n",
    "+ Activate the environment with `conda activate <env-name>`. For example, `conda activate scale2prod`.\n",
    "+ Other useful commands are:\n",
    "\n",
    "    - Verify conda installation: `conda info` or `conda -V`\n",
    "    - List current environments: `conda info --envs`\n"
   ]
  },
  {
   "cell_type": "markdown",
   "metadata": {},
   "source": [
    "# Setup a Logger\n",
    "\n",
    "+ We will use Python's logging module and will provision our standard loggers through our first module.\n",
    "+ The module is located in `./05_src/utils/logger.py`.\n",
    "+ Our notebooks will need to add `../05_src/` to their path and load environment variables from `../05_src/.env`. Notice that these paths are based on the notebook's location. "
   ]
  },
  {
   "cell_type": "markdown",
   "metadata": {},
   "source": [
    "### Logger highlights\n",
    "\n",
    "A few highlights about `./05_src/utils/logger.py`:\n",
    "\n",
    "+ This logger has two handlers: \n",
    "\n",
    "    - A `FileHandler` that will save logs to files that are datetime index.\n",
    "    - A `StreamHandler` handler that outputs messages to the stdout.\n",
    "\n",
    "+ Each logger can set its own format. \n",
    "+ The log directory and log level are obtained from the environment.\n",
    "+ According to the [Advanced Logging Tutorial](https://docs.python.org/2/howto/logging.html#logging-advanced-tutorial): \n",
    "\n",
    "    >\"A good convention to use when naming loggers is to use a module-level logger, in each module which uses logging, named as follows: \n",
    "    >\n",
    "    >`logger = logging.get_logger(__name__)`.\n",
    "    >\n",
    "    >This means that logger names track the package/module hierarchy, and it’s intuitively obvious where events are logged just from the logger name.\""
   ]
  },
  {
   "cell_type": "markdown",
   "metadata": {},
   "source": [
    "Run the code below to verify that your setup is working."
   ]
  },
  {
   "cell_type": "code",
   "execution_count": 1,
   "metadata": {},
   "outputs": [
    {
     "name": "stdout",
     "output_type": "stream",
     "text": [
      "Collecting python-dotenv\n",
      "  Using cached python_dotenv-1.1.1-py3-none-any.whl.metadata (24 kB)\n",
      "Using cached python_dotenv-1.1.1-py3-none-any.whl (20 kB)\n",
      "Installing collected packages: python-dotenv\n",
      "Successfully installed python-dotenv-1.1.1\n"
     ]
    },
    {
     "name": "stderr",
     "output_type": "stream",
     "text": [
      "\n",
      "[notice] A new release of pip is available: 25.1.1 -> 25.2\n",
      "[notice] To update, run: python.exe -m pip install --upgrade pip\n"
     ]
    }
   ],
   "source": [
    "# I added this line here\n",
    "!pip install python-dotenv"
   ]
  },
  {
   "cell_type": "code",
   "execution_count": 1,
   "metadata": {},
   "outputs": [],
   "source": [
    "%load_ext dotenv\n",
    "%dotenv "
   ]
  },
  {
   "cell_type": "code",
   "execution_count": 2,
   "metadata": {},
   "outputs": [],
   "source": [
    "import sys\n",
    "sys.path.append(\"../../05_src\")"
   ]
  },
  {
   "cell_type": "code",
   "execution_count": 3,
   "metadata": {},
   "outputs": [
    {
     "name": "stderr",
     "output_type": "stream",
     "text": [
      "2025-09-25 16:29:03,849, 492669213.py, 3, INFO, Hello world!\n"
     ]
    }
   ],
   "source": [
    "from utils.logger import get_logger\n",
    "_logs = get_logger(__name__)\n",
    "_logs.info(\"Hello world!\")"
   ]
  },
  {
   "cell_type": "markdown",
   "metadata": {},
   "source": [
    "# Using Docker to Set Up Experiment Tracking\n",
    "\n",
    "+ For our work, we need an environment that resembles the production environment as closely as possible. \n",
    "+ One way to achieve this is to use containers and containerized application. \n",
    "+ Without going into the details, you can think of a container as software that encapsulates the key features of an operating system, a programming language, and the application code.\n",
    "+ Containers are meant to be portable across operating systems: a container will work the same regardless if the underlying Docker application is installed in a Windows, Linux or Mac machine.\n",
    "+ Containers are not Virtual Machines.\n",
    "+ Docker is a popular application that implement containers.\n",
    "\n",
    "## What is Docker?\n",
    "\n",
    "+ From product documentation:\n",
    "\n",
    "> Docker is an open platform for developing, shipping, and running applications. Docker enables you to separate your applications from your infrastructure so you can deliver software quickly. With Docker, you can manage your infrastructure in the same ways you manage your applications. By taking advantage of Docker's methodologies for shipping, testing, and deploying code, you can significantly reduce the delay between writing code and running it in production.\n",
    "\n",
    "## General Procedure\n",
    "\n",
    "+ To setup services using containers, we will do the following:\n",
    "\n",
    "1. Download an image from [Docker Hub](https://hub.docker.com/) or equivalent image repository.\n",
    "2. If required, set up a volume to [persist data](https://docs.docker.com/guides/walkthroughs/persist-data/).\n",
    "3. Redirect ports as needed.\n",
    "4. Start the container.\n",
    "\n",
    "In our course, we will setup the following services:\n",
    "\n",
    "+ MLFlow: an experiment tracking system. MLFlow requires two backends: a database and an object store.\n",
    "+ PostgreSQL: a database management system.\n",
    "+ MinIO: an object store that resembles S3 buckets in AWS.\n",
    "\n",
    "## Starting the Containers\n",
    "\n",
    "+ To run the process above, first navigate to the `./05_src/experiment_tracking/` folder.\n",
    "+ The first time that you set up the containers, you will need to build the MLFlow image. You can build the required image with `docker compose build`. \n",
    "+ After building a local image for MLFlow, run `docker compose up -d`. \n",
    "+ The flag `-d` indicates that we will do a headless run. \n",
    "+ Notice that the containers are set to always restart. You can remove the option or turn the containers off manually. Be aware that if you leave this option on, the containers will run any time your Docker desktop restarts.\n",
    "\n",
    "## Stopping the Containers\n",
    "\n",
    "+ To stop the containers use (from `./05_src/db/`): `docker compose stop`.\n",
    "+ Alternatively, you can bring all images down including their volumes with: `docker compose down -v`. \n",
    "\n",
    "    - The `-v` flag removes volumes. \n",
    "    - It is the best option when you are do not need the data any more because **it will delete the data in your DB **. \n",
    "\n",
    "\n",
    "## Connecting to the MLFlow UI\n",
    "\n",
    "+ MLFlow offers a convenient interface that can be accessed via [http://localhost:5001](http://localhost:5001).\n",
    "\n",
    "![](./images/01_mlflow.png)\n",
    "\n",
    "## Connecting to PgAdmin\n",
    "\n",
    "+ PgAdmin4 is management software for PostgreSQL Server.\n",
    "+ You can open the local implementation by navigating to [http://localhost:5051](http://localhost:5051/). You will find a screen like the one below.\n",
    "\n",
    "![](./images/01_pgadmin_login.png)\n",
    "\n",
    "+ Login using the credentials specified in the file `./05_src/experiment_tracking/.env`. Notice there are two sets of credentials, use the ones for PgAdmin4. After authentication, you will see a screen like the one below.\n",
    "\n",
    "![](./images/01_pgadmin_initial.png)\n",
    "\n",
    "+ Click on \"Add New Server\":\n",
    "\n",
    "    - In the *General* Tab, under Name enter: localhost. \n",
    "    - Under the *Connection* Tab, use Host name *postgres* (this is the name of the service in the docker compose file). \n",
    "    - Username and password are the ones found in the `./05_src/experiment_tracking/.env` file.\n",
    "\n",
    "\n",
    "## Connect to MinIO\n",
    "\n",
    "+ The interface for MinIO can be reached via [http://localhost:9001](http://localhost:9001)\n",
    "+ The credentials can be found in the `./05_src/experiment_tracking/.env` file.\n",
    "\n",
    "![](./images/01_minio.png)\n",
    "\n",
    "\n",
    "## Learn More\n",
    "\n",
    "+ Containers and containerization are topics well beyond the scope of this course. However, we will use containerized applications to help us implement certain patterns. \n",
    "+ If you are interested in Docker, a good place to start is the [Official Docker Guides](https://docs.docker.com/get-started/overview/). "
   ]
  },
  {
   "cell_type": "markdown",
   "metadata": {},
   "source": [
    "# On  Jupyter Notebooks\n",
    "\n",
    "+ Jupyter Notebooks are great for drafting code, fast experimentation, demos, documentation, and some prototypes.\n",
    "+ They are not great for production code and not great for experiment tracking."
   ]
  },
  {
   "cell_type": "markdown",
   "metadata": {},
   "source": [
    "# A Note about Copilot\n",
    "\n",
    "+ AI-assisted coding is a reality. I would like your opinions about the use of this technology.\n",
    "+ I will start the course with Copilot on, but if it becomes too distracting, I will be happy to turn it off. \n",
    "+ Copilot is a nice tool, but it is not for everyone. If you are starting to code or are trying to level up, I recommend that you leave AI assistants (Copilot, ChatGPT, etc.) for later."
   ]
  }
 ],
 "metadata": {
  "kernelspec": {
   "display_name": "dsi_participant",
   "language": "python",
   "name": "python3"
  },
  "language_info": {
   "codemirror_mode": {
    "name": "ipython",
    "version": 3
   },
   "file_extension": ".py",
   "mimetype": "text/x-python",
   "name": "python",
   "nbconvert_exporter": "python",
   "pygments_lexer": "ipython3",
   "version": "3.9.19"
  }
 },
 "nbformat": 4,
 "nbformat_minor": 2
}
