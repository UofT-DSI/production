{
 "cells": [
  {
   "cell_type": "code",
   "execution_count": 1,
   "metadata": {},
   "outputs": [],
   "source": [
    "%load_ext dotenv\n",
    "%dotenv "
   ]
  },
  {
   "cell_type": "markdown",
   "metadata": {},
   "source": [
    "# What are we doing?\n",
    "\n",
    "## Objectives \n",
    "\n",
    "\n",
    "* Build a data pipeline that downloads price data from the internet, stores it locally, transforms it into return data, and stores the feature set.\n",
    "    - Getting the data.\n",
    "    - Schemas and index in dask.\n",
    "\n",
    "* Explore the parquet format.\n",
    "    - Reading and writing parquet files.\n",
    "    - Read datasets that are stored in distributed files.\n",
    "    - Discuss dask vs pandas as a small example of big vs small data.\n",
    "    \n",
    "* Discuss the use of environment variables for settings.\n",
    "* Discuss how to use Jupyter notebooks and source code concurrently. \n",
    "* Logging and using a standard logger.\n",
    "\n",
    "## About the Data\n",
    "\n",
    "+ We will download the prices for a list of stocks.\n",
    "+ The source is Yahoo Finance and we will use the API provided by the library yfinance.\n",
    "\n",
    "\n",
    "## Medallion Architecture\n",
    "\n",
    "+ The architecture that we are thinking about is called Medallion by [DataBricks](https://www.databricks.com/glossary/medallion-architecture). It is an ELT type of thinking, although our data is well-structured.\n",
    "\n",
    "![Medallion Architecture (DataBicks)](./images/02_medallion_architecture.png)\n",
    "\n",
    "+ In our case, we would like to optimize the number of times that we download data from the internet. \n",
    "+ Ultimately, we will build a pipeline manager class that will help us control the process of obtaining and transforming our data.\n",
    "\n",
    "![](./images/02_target_pipeline_manager.png)"
   ]
  },
  {
   "cell_type": "markdown",
   "metadata": {},
   "source": [
    "# Download Data\n",
    "\n",
    "Download the [Stock Market Dataset from Kaggle](https://www.kaggle.com/datasets/jacksoncrow/stock-market-dataset). Note that you may be required to register for a free account.\n",
    "\n",
    "Extract all files into the directory: `./05_src/data/prices_csv/`\n",
    "\n",
    "Your folder structure should include the following paths:\n",
    "\n",
    "+ `05_src/data/prices_csv/etfs`\n",
    "+ `05_src/data/prices_csv/stocks`\n"
   ]
  },
  {
   "cell_type": "code",
   "execution_count": 2,
   "metadata": {},
   "outputs": [],
   "source": [
    "import pandas as pd\n",
    "import os\n",
    "import sys\n",
    "from glob import glob\n",
    "\n",
    "sys.path.append(os.getenv('SRC_DIR'))\n",
    "\n",
    "from utils.logger import get_logger\n",
    "_logs = get_logger(__name__)"
   ]
  },
  {
   "cell_type": "markdown",
   "metadata": {},
   "source": [
    "A few things to notice in the code chunk above:\n",
    "\n",
    "+ Libraries are ordered from high-level to low-level libraries from the package manager (pip in this case, but could be conda, poetry, etc.)\n",
    "+ The command `sys.path.append(\"../05_src/)` will add the `../05_src/` directory to the path in the Notebook's kernel. This way, we can use our modules as part of the notebook.\n",
    "+ Local modules are imported at the end. \n",
    "+ The function `get_logger()` is called with `__name__` as recommended by the documentation."
   ]
  },
  {
   "cell_type": "markdown",
   "metadata": {},
   "source": [
    "Now, to load the historical price data for stocks and ETFs, we could use:"
   ]
  },
  {
   "cell_type": "code",
   "execution_count": 3,
   "metadata": {},
   "outputs": [
    {
     "name": "stderr",
     "output_type": "stream",
     "text": [
      "2025-06-07 12:00:21,525, 4121356139.py, 10, INFO, Reading file: ../../05_src/data/prices_csv/stocks/HCM.csv\n",
      "2025-06-07 12:00:21,536, 4121356139.py, 10, INFO, Reading file: ../../05_src/data/prices_csv/stocks/ATHM.csv\n",
      "2025-06-07 12:00:21,540, 4121356139.py, 10, INFO, Reading file: ../../05_src/data/prices_csv/stocks/RILYP.csv\n",
      "2025-06-07 12:00:21,542, 4121356139.py, 10, INFO, Reading file: ../../05_src/data/prices_csv/stocks/ALDX.csv\n",
      "2025-06-07 12:00:21,546, 4121356139.py, 10, INFO, Reading file: ../../05_src/data/prices_csv/stocks/JHG.csv\n",
      "2025-06-07 12:00:21,549, 4121356139.py, 10, INFO, Reading file: ../../05_src/data/prices_csv/stocks/CHRS.csv\n",
      "2025-06-07 12:00:21,553, 4121356139.py, 10, INFO, Reading file: ../../05_src/data/prices_csv/stocks/BKTI.csv\n",
      "2025-06-07 12:00:21,564, 4121356139.py, 10, INFO, Reading file: ../../05_src/data/prices_csv/stocks/REFR.csv\n",
      "2025-06-07 12:00:21,573, 4121356139.py, 10, INFO, Reading file: ../../05_src/data/prices_csv/stocks/KEN.csv\n",
      "2025-06-07 12:00:21,576, 4121356139.py, 10, INFO, Reading file: ../../05_src/data/prices_csv/stocks/MDRRP.csv\n",
      "2025-06-07 12:00:21,578, 4121356139.py, 10, INFO, Reading file: ../../05_src/data/prices_csv/stocks/GRF.csv\n",
      "2025-06-07 12:00:21,584, 4121356139.py, 10, INFO, Reading file: ../../05_src/data/prices_csv/stocks/KRC.csv\n",
      "2025-06-07 12:00:21,592, 4121356139.py, 10, INFO, Reading file: ../../05_src/data/prices_csv/stocks/MICT.csv\n",
      "2025-06-07 12:00:21,596, 4121356139.py, 10, INFO, Reading file: ../../05_src/data/prices_csv/stocks/AMPY.csv\n",
      "2025-06-07 12:00:21,600, 4121356139.py, 10, INFO, Reading file: ../../05_src/data/prices_csv/stocks/A.csv\n",
      "2025-06-07 12:00:21,607, 4121356139.py, 10, INFO, Reading file: ../../05_src/data/prices_csv/stocks/WRLSU.csv\n",
      "2025-06-07 12:00:21,610, 4121356139.py, 10, INFO, Reading file: ../../05_src/data/prices_csv/stocks/PNR.csv\n",
      "2025-06-07 12:00:21,624, 4121356139.py, 10, INFO, Reading file: ../../05_src/data/prices_csv/stocks/TERP.csv\n",
      "2025-06-07 12:00:21,628, 4121356139.py, 10, INFO, Reading file: ../../05_src/data/prices_csv/stocks/TMSR.csv\n",
      "2025-06-07 12:00:21,631, 4121356139.py, 10, INFO, Reading file: ../../05_src/data/prices_csv/stocks/TDJ.csv\n",
      "2025-06-07 12:00:21,635, 4121356139.py, 10, INFO, Reading file: ../../05_src/data/prices_csv/stocks/CIK.csv\n",
      "2025-06-07 12:00:21,645, 4121356139.py, 10, INFO, Reading file: ../../05_src/data/prices_csv/stocks/SMBC.csv\n",
      "2025-06-07 12:00:21,654, 4121356139.py, 10, INFO, Reading file: ../../05_src/data/prices_csv/stocks/CNSP.csv\n",
      "2025-06-07 12:00:21,656, 4121356139.py, 10, INFO, Reading file: ../../05_src/data/prices_csv/stocks/BLK.csv\n",
      "2025-06-07 12:00:21,663, 4121356139.py, 10, INFO, Reading file: ../../05_src/data/prices_csv/stocks/CLNC.csv\n",
      "2025-06-07 12:00:21,666, 4121356139.py, 10, INFO, Reading file: ../../05_src/data/prices_csv/stocks/AOSL.csv\n",
      "2025-06-07 12:00:21,671, 4121356139.py, 10, INFO, Reading file: ../../05_src/data/prices_csv/stocks/LYV.csv\n",
      "2025-06-07 12:00:21,676, 4121356139.py, 10, INFO, Reading file: ../../05_src/data/prices_csv/stocks/IX.csv\n",
      "2025-06-07 12:00:21,683, 4121356139.py, 10, INFO, Reading file: ../../05_src/data/prices_csv/stocks/AWRE.csv\n",
      "2025-06-07 12:00:21,691, 4121356139.py, 10, INFO, Reading file: ../../05_src/data/prices_csv/stocks/KNX.csv\n",
      "2025-06-07 12:00:21,700, 4121356139.py, 10, INFO, Reading file: ../../05_src/data/prices_csv/stocks/TRXC.csv\n",
      "2025-06-07 12:00:21,708, 4121356139.py, 10, INFO, Reading file: ../../05_src/data/prices_csv/stocks/CVCY.csv\n",
      "2025-06-07 12:00:21,715, 4121356139.py, 10, INFO, Reading file: ../../05_src/data/prices_csv/stocks/UVE.csv\n",
      "2025-06-07 12:00:21,721, 4121356139.py, 10, INFO, Reading file: ../../05_src/data/prices_csv/stocks/HCKT.csv\n",
      "2025-06-07 12:00:21,729, 4121356139.py, 10, INFO, Reading file: ../../05_src/data/prices_csv/stocks/TFSL.csv\n",
      "2025-06-07 12:00:21,734, 4121356139.py, 10, INFO, Reading file: ../../05_src/data/prices_csv/stocks/ACB.csv\n",
      "2025-06-07 12:00:21,742, 4121356139.py, 10, INFO, Reading file: ../../05_src/data/prices_csv/stocks/AXP.csv\n",
      "2025-06-07 12:00:21,756, 4121356139.py, 10, INFO, Reading file: ../../05_src/data/prices_csv/stocks/GLG.csv\n",
      "2025-06-07 12:00:21,760, 4121356139.py, 10, INFO, Reading file: ../../05_src/data/prices_csv/stocks/MFO.csv\n",
      "2025-06-07 12:00:21,764, 4121356139.py, 10, INFO, Reading file: ../../05_src/data/prices_csv/stocks/PCB.csv\n",
      "2025-06-07 12:00:21,768, 4121356139.py, 10, INFO, Reading file: ../../05_src/data/prices_csv/stocks/IPDN.csv\n",
      "2025-06-07 12:00:21,772, 4121356139.py, 10, INFO, Reading file: ../../05_src/data/prices_csv/stocks/DTW.csv\n",
      "2025-06-07 12:00:21,776, 4121356139.py, 10, INFO, Reading file: ../../05_src/data/prices_csv/stocks/IQV.csv\n",
      "2025-06-07 12:00:21,779, 4121356139.py, 10, INFO, Reading file: ../../05_src/data/prices_csv/stocks/EVRI.csv\n",
      "2025-06-07 12:00:21,785, 4121356139.py, 10, INFO, Reading file: ../../05_src/data/prices_csv/stocks/LIVE.csv\n",
      "2025-06-07 12:00:21,792, 4121356139.py, 10, INFO, Reading file: ../../05_src/data/prices_csv/stocks/KZR.csv\n",
      "2025-06-07 12:00:21,794, 4121356139.py, 10, INFO, Reading file: ../../05_src/data/prices_csv/stocks/SO.csv\n",
      "2025-06-07 12:00:21,806, 4121356139.py, 10, INFO, Reading file: ../../05_src/data/prices_csv/stocks/INFY.csv\n",
      "2025-06-07 12:00:21,813, 4121356139.py, 10, INFO, Reading file: ../../05_src/data/prices_csv/stocks/BSE.csv\n",
      "2025-06-07 12:00:21,820, 4121356139.py, 10, INFO, Reading file: ../../05_src/data/prices_csv/stocks/PSN.csv\n",
      "2025-06-07 12:00:21,824, 4121356139.py, 10, INFO, Reading file: ../../05_src/data/prices_csv/stocks/TNAV.csv\n",
      "2025-06-07 12:00:21,829, 4121356139.py, 10, INFO, Reading file: ../../05_src/data/prices_csv/stocks/APTX.csv\n",
      "2025-06-07 12:00:21,831, 4121356139.py, 10, INFO, Reading file: ../../05_src/data/prices_csv/stocks/LAZY.csv\n",
      "2025-06-07 12:00:21,833, 4121356139.py, 10, INFO, Reading file: ../../05_src/data/prices_csv/stocks/DK.csv\n",
      "2025-06-07 12:00:21,839, 4121356139.py, 10, INFO, Reading file: ../../05_src/data/prices_csv/stocks/ZEUS.csv\n",
      "2025-06-07 12:00:21,848, 4121356139.py, 10, INFO, Reading file: ../../05_src/data/prices_csv/stocks/IRBT.csv\n",
      "2025-06-07 12:00:21,854, 4121356139.py, 10, INFO, Reading file: ../../05_src/data/prices_csv/stocks/AMAT.csv\n",
      "2025-06-07 12:00:21,866, 4121356139.py, 10, INFO, Reading file: ../../05_src/data/prices_csv/stocks/PSB.csv\n",
      "2025-06-07 12:00:21,875, 4121356139.py, 10, INFO, Reading file: ../../05_src/data/prices_csv/stocks/CTSO.csv\n",
      "2025-06-07 12:00:21,880, 4121356139.py, 10, INFO, Reading file: ../../05_src/data/prices_csv/stocks/UEC.csv\n"
     ]
    }
   ],
   "source": [
    "import random\n",
    "\n",
    "stock_files = glob(os.path.join(os.getenv('SRC_DIR'), \"data/prices_csv/stocks/*.csv\"))\n",
    "\n",
    "random.seed(42)\n",
    "stock_files = random.sample(stock_files, 60)\n",
    "\n",
    "dt_list = []\n",
    "for s_file in stock_files:\n",
    "    _logs.info(f\"Reading file: {s_file}\")\n",
    "    dt = pd.read_csv(s_file).assign(\n",
    "        source = os.path.basename(s_file),\n",
    "        ticker = os.path.basename(s_file).replace('.csv', ''),\n",
    "        Date = lambda x: pd.to_datetime(x['Date'])\n",
    "    )\n",
    "    dt_list.append(dt)\n",
    "stock_prices = pd.concat(dt_list, axis = 0, ignore_index = True)\n",
    "\n"
   ]
  },
  {
   "cell_type": "markdown",
   "metadata": {},
   "source": [
    "Verify the structure of the `stock_prices` data:"
   ]
  },
  {
   "cell_type": "code",
   "execution_count": 4,
   "metadata": {},
   "outputs": [
    {
     "name": "stdout",
     "output_type": "stream",
     "text": [
      "<class 'pandas.core.frame.DataFrame'>\n",
      "RangeIndex: 230273 entries, 0 to 230272\n",
      "Data columns (total 9 columns):\n",
      " #   Column     Non-Null Count   Dtype         \n",
      "---  ------     --------------   -----         \n",
      " 0   Date       230273 non-null  datetime64[ns]\n",
      " 1   Open       230260 non-null  float64       \n",
      " 2   High       230260 non-null  float64       \n",
      " 3   Low        230260 non-null  float64       \n",
      " 4   Close      230260 non-null  float64       \n",
      " 5   Adj Close  230260 non-null  float64       \n",
      " 6   Volume     230260 non-null  float64       \n",
      " 7   source     230273 non-null  object        \n",
      " 8   ticker     230273 non-null  object        \n",
      "dtypes: datetime64[ns](1), float64(6), object(2)\n",
      "memory usage: 15.8+ MB\n"
     ]
    }
   ],
   "source": [
    "stock_prices.info()"
   ]
  },
  {
   "cell_type": "markdown",
   "metadata": {},
   "source": [
    "We can subset our ticker data set using standard indexing techniques. A good reference for this type of data manipulation is Panda's [Documentation](https://pandas.pydata.org/docs/user_guide/indexing.html#indexing-and-selecting-data) and [Cookbook](https://pandas.pydata.org/docs/user_guide/cookbook.html#cookbook-selection)."
   ]
  },
  {
   "cell_type": "markdown",
   "metadata": {},
   "source": [
    "From the subset data frame, select one column and convert to list."
   ]
  },
  {
   "cell_type": "code",
   "execution_count": 5,
   "metadata": {},
   "outputs": [
    {
     "data": {
      "text/plain": [
       "['HCM',\n",
       " 'ATHM',\n",
       " 'RILYP',\n",
       " 'ALDX',\n",
       " 'JHG',\n",
       " 'CHRS',\n",
       " 'BKTI',\n",
       " 'REFR',\n",
       " 'KEN',\n",
       " 'MDRRP',\n",
       " 'GRF',\n",
       " 'KRC',\n",
       " 'MICT',\n",
       " 'AMPY',\n",
       " 'A',\n",
       " 'WRLSU',\n",
       " 'PNR',\n",
       " 'TERP',\n",
       " 'TMSR',\n",
       " 'TDJ',\n",
       " 'CIK',\n",
       " 'SMBC',\n",
       " 'CNSP',\n",
       " 'BLK',\n",
       " 'CLNC',\n",
       " 'AOSL',\n",
       " 'LYV',\n",
       " 'IX',\n",
       " 'AWRE',\n",
       " 'KNX',\n",
       " 'TRXC',\n",
       " 'CVCY',\n",
       " 'UVE',\n",
       " 'HCKT',\n",
       " 'TFSL',\n",
       " 'ACB',\n",
       " 'AXP',\n",
       " 'GLG',\n",
       " 'MFO',\n",
       " 'PCB',\n",
       " 'IPDN',\n",
       " 'DTW',\n",
       " 'IQV',\n",
       " 'EVRI',\n",
       " 'LIVE',\n",
       " 'KZR',\n",
       " 'SO',\n",
       " 'INFY',\n",
       " 'BSE',\n",
       " 'PSN',\n",
       " 'TNAV',\n",
       " 'APTX',\n",
       " 'LAZY',\n",
       " 'DK',\n",
       " 'ZEUS',\n",
       " 'IRBT',\n",
       " 'AMAT',\n",
       " 'PSB',\n",
       " 'CTSO',\n",
       " 'UEC']"
      ]
     },
     "execution_count": 5,
     "metadata": {},
     "output_type": "execute_result"
    }
   ],
   "source": [
    "select_tickers = stock_prices['ticker'].unique().tolist()\n",
    "select_tickers"
   ]
  },
  {
   "cell_type": "markdown",
   "metadata": {},
   "source": [
    "# Storing Data in CSV\n",
    "\n"
   ]
  },
  {
   "cell_type": "markdown",
   "metadata": {},
   "source": [
    "+ We have some data. How do we store it?\n",
    "+ We can compare two options, CSV and Parqruet, by measuring their performance:\n",
    "\n",
    "    - Time to save.\n",
    "    - Space required."
   ]
  },
  {
   "cell_type": "code",
   "execution_count": 6,
   "metadata": {},
   "outputs": [],
   "source": [
    "def get_dir_size(path='.'):\n",
    "    '''Returns the total size of files contained in path.'''\n",
    "    total = 0\n",
    "    with os.scandir(path) as it:\n",
    "        for entry in it:\n",
    "            if entry.is_file():\n",
    "                total += entry.stat().st_size\n",
    "            elif entry.is_dir():\n",
    "                total += get_dir_size(entry.path)\n",
    "    return total"
   ]
  },
  {
   "cell_type": "code",
   "execution_count": 7,
   "metadata": {},
   "outputs": [],
   "source": [
    "import time\n",
    "import shutil"
   ]
  },
  {
   "cell_type": "code",
   "execution_count": 8,
   "metadata": {},
   "outputs": [],
   "source": [
    "temp = os.getenv(\"TEMP_DATA\")\n",
    "csv_dir = os.path.join(temp, \"csv\")\n",
    "shutil.rmtree(csv_dir, ignore_errors=True)\n",
    "stock_csv = os.path.join(csv_dir, \"stock_px.csv\")\n",
    "os.makedirs(csv_dir, exist_ok=True)"
   ]
  },
  {
   "cell_type": "code",
   "execution_count": 9,
   "metadata": {},
   "outputs": [
    {
     "name": "stderr",
     "output_type": "stream",
     "text": [
      "2025-06-07 12:00:23,208, 473192941.py, 5, INFO, Writing data ((230273, 9)) to csv took 1.2299418449401855 seconds.\n",
      "2025-06-07 12:00:23,209, 473192941.py, 6, INFO, CSV file size 25.988193 MB\n"
     ]
    }
   ],
   "source": [
    "\n",
    "start = time.time()\n",
    "stock_prices.to_csv(stock_csv, index = False)\n",
    "end = time.time()\n",
    "\n",
    "_logs.info(f'Writing data ({stock_prices.shape}) to csv took {end - start} seconds.')\n",
    "_logs.info(f'CSV file size { os.path.getsize(stock_csv)*1e-6 } MB')"
   ]
  },
  {
   "cell_type": "markdown",
   "metadata": {},
   "source": [
    "## Save Data to Parquet\n",
    "\n",
    "### Dask \n",
    "\n",
    "We can work with with large data sets and parquet files. In fact, recent versions of pandas support pyarrow data types and future versions will require a pyarrow backend. The pyarrow library is an interface between Python and the Appache Arrow project. The [parquet data format](https://parquet.apache.org/) and [Arrow](https://arrow.apache.org/docs/python/parquet.html) are projects of the Apache Foundation.\n",
    "\n",
    "However, Dask is much more than an interface to Arrow: Dask provides parallel and distributed computing on pandas-like dataframes. It is also relatively easy to use, bridging a gap between pandas and Spark. "
   ]
  },
  {
   "cell_type": "code",
   "execution_count": 10,
   "metadata": {},
   "outputs": [],
   "source": [
    "import dask.dataframe as dd\n",
    "\n",
    "parquet_dir = os.path.join(temp, \"parquet\")\n",
    "shutil.rmtree(parquet_dir, ignore_errors=True)\n",
    "os.makedirs(parquet_dir, exist_ok=True)"
   ]
  },
  {
   "cell_type": "code",
   "execution_count": 11,
   "metadata": {},
   "outputs": [
    {
     "name": "stderr",
     "output_type": "stream",
     "text": [
      "2025-06-07 12:00:24,746, 817812245.py, 7, INFO, Writing dd ((230273, 9)) to parquet took 0.9629290103912354 seconds.\n",
      "2025-06-07 12:00:24,747, 817812245.py, 8, INFO, Parquet file size 8.883424999999999 MB\n"
     ]
    }
   ],
   "source": [
    "px_dd = dd.from_pandas(stock_prices, npartitions = len(select_tickers))\n",
    "\n",
    "start = time.time()\n",
    "px_dd.to_parquet(parquet_dir, engine = \"pyarrow\")\n",
    "end = time.time()\n",
    "\n",
    "_logs.info(f'Writing dd ({stock_prices.shape}) to parquet took {end - start} seconds.')\n",
    "_logs.info(f'Parquet file size { get_dir_size(parquet_dir)*1e-6 } MB')"
   ]
  },
  {
   "cell_type": "markdown",
   "metadata": {},
   "source": [
    "### Parquet files and Dask Dataframes\n",
    "\n",
    "+ Parquet files are immutable: once written, they cannot be modified.\n",
    "+ Dask DataFrames are a useful implementation to manipulate data stored in parquets.\n",
    "+ Parquet and Dask are not the same: parquet is a file format that can be accessed by many applications and programming languages (Python, R, PowerBI, etc.), while Dask is a package in Python to work with large datasets using distributed computation.\n",
    "+ **Dask is not for everything** (see [Dask DataFrames Best Practices](https://docs.dask.org/en/stable/dataframe-best-practices.html)). \n",
    "\n",
    "    - Consider cases suchas small to large joins, where the small dataframe fits in memory, but the large one does not. \n",
    "    - If possible, use pandas: reduce, then use pandas.\n",
    "    - Pandas performance tips apply to Dask.\n",
    "    - Use the index: it is beneficial to have a well-defined index in Dask DataFrames, as it may speed up searching (filtering) the data. A one-dimensional index is allowed.\n",
    "    - Avoid (or minimize) full-data shuffling: indexing is an expensive operations. \n",
    "    - Some joins are more expensive than others. \n",
    "\n",
    "        * Not expensive:\n",
    "\n",
    "            - Join a Dask DataFrame with a pandas DataFrame.\n",
    "            - Join a Dask DataFrame with another Dask DataFrame of a single partition.\n",
    "            - Join Dask DataFrames along their indexes.\n",
    "\n",
    "        * Expensive:\n",
    "\n",
    "            - Join Dask DataFrames along columns that are not their index.\n"
   ]
  },
  {
   "cell_type": "markdown",
   "metadata": {},
   "source": [
    "# How do we store prices?\n",
    "\n",
    "+ We can store our data as a single blob. This can be difficult to maintain, especially because parquet files are immutable.\n",
    "+ Strategy: organize data files by ticker and date. Update only latest month.\n",
    "\n"
   ]
  },
  {
   "cell_type": "code",
   "execution_count": 12,
   "metadata": {},
   "outputs": [],
   "source": [
    "# CLean up before start\n",
    "PRICE_DATA = os.getenv(\"PRICE_DATA\")\n",
    "import shutil\n",
    "if os.path.exists(PRICE_DATA):\n",
    "    shutil.rmtree(PRICE_DATA)"
   ]
  },
  {
   "cell_type": "code",
   "execution_count": 13,
   "metadata": {},
   "outputs": [
    {
     "data": {
      "text/plain": [
       "Index(['Date', 'Open', 'High', 'Low', 'Close', 'Adj Close', 'Volume', 'source',\n",
       "       'ticker'],\n",
       "      dtype='object')"
      ]
     },
     "execution_count": 13,
     "metadata": {},
     "output_type": "execute_result"
    }
   ],
   "source": [
    "stock_prices.columns"
   ]
  },
  {
   "cell_type": "code",
   "execution_count": 14,
   "metadata": {},
   "outputs": [],
   "source": [
    "for ticker in stock_prices['ticker'].unique():\n",
    "    ticker_dt = stock_prices[stock_prices['ticker'] == ticker]\n",
    "    ticker_dt = ticker_dt.assign(Year = ticker_dt.Date.dt.year)\n",
    "    for yr in ticker_dt['Year'].unique():\n",
    "        yr_dd = dd.from_pandas(ticker_dt[ticker_dt['Year'] == yr],2)\n",
    "        yr_path = os.path.join(PRICE_DATA, ticker, f\"{ticker}_{yr}\")\n",
    "        os.makedirs(os.path.dirname(yr_path), exist_ok=True)\n",
    "        yr_dd.to_parquet(yr_path, engine = \"pyarrow\")\n",
    "    "
   ]
  },
  {
   "cell_type": "markdown",
   "metadata": {},
   "source": [
    "Why would we want to store data this way?\n",
    "\n",
    "+ Easier to maintain. We do not update old data, only recent data.\n",
    "+ We can also access all files as follows."
   ]
  },
  {
   "cell_type": "markdown",
   "metadata": {},
   "source": [
    "# Load, Transform and Save "
   ]
  },
  {
   "cell_type": "markdown",
   "metadata": {},
   "source": [
    "## Load\n",
    "\n",
    "+ Parquet files can be read individually or as a collection.\n",
    "+ `dd.read_parquet()` can take a list (collection) of files as input.\n",
    "+ Use `glob` to get the collection of files."
   ]
  },
  {
   "cell_type": "code",
   "execution_count": 15,
   "metadata": {},
   "outputs": [],
   "source": [
    "from glob import glob\n",
    "\n",
    "parquet_files = glob(os.path.join(PRICE_DATA, \"**/*.parquet\"), recursive = True)\n",
    "dd_px = dd.read_parquet(parquet_files).set_index(\"ticker\")"
   ]
  },
  {
   "cell_type": "markdown",
   "metadata": {},
   "source": [
    "## Transform\n",
    "\n",
    "+ This transformation step will create a *Features* data set. In our case, features will be stock returns (we obtained prices).\n",
    "+ Dask dataframes work like pandas dataframes: in particular, we can perform groupby and apply operations.\n",
    "+ Notice the use of [an anonymous (lambda) function](https://realpython.com/python-lambda/) in the apply statement."
   ]
  },
  {
   "cell_type": "code",
   "execution_count": 16,
   "metadata": {},
   "outputs": [
    {
     "name": "stderr",
     "output_type": "stream",
     "text": [
      "/var/folders/r3/cgyvjj3s1890sf6tq0lc4xqh0000gn/T/ipykernel_2268/102405636.py:1: UserWarning: `meta` is not specified, inferred from partial data. Please provide `meta` if the result is unexpected.\n",
      "  Before: .apply(func)\n",
      "  After:  .apply(func, meta={'x': 'f8', 'y': 'f8'}) for dataframe result\n",
      "  or:     .apply(func, meta=('x', 'f8'))            for series result\n",
      "  dd_shift = dd_px.groupby('ticker', group_keys=False).apply(\n"
     ]
    }
   ],
   "source": [
    "dd_shift = dd_px.groupby('ticker', group_keys=False).apply(\n",
    "    lambda x: x.assign(Close_lag_1 = x['Close'].shift(1))\n",
    ")"
   ]
  },
  {
   "cell_type": "code",
   "execution_count": 17,
   "metadata": {},
   "outputs": [],
   "source": [
    "dd_rets = dd_shift.assign(\n",
    "    Returns = lambda x: x['Close']/x['Close_lag_1'] - 1\n",
    ")"
   ]
  },
  {
   "cell_type": "markdown",
   "metadata": {},
   "source": [
    "## Lazy Exection\n",
    "\n",
    "What does `dd_rets` contain?"
   ]
  },
  {
   "cell_type": "code",
   "execution_count": 18,
   "metadata": {},
   "outputs": [
    {
     "data": {
      "text/html": [
       "<div><strong>Dask DataFrame Structure:</strong></div>\n",
       "<table border=\"1\" class=\"dataframe\">\n",
       "  <thead>\n",
       "    <tr style=\"text-align: right;\">\n",
       "      <th></th>\n",
       "      <th>Date</th>\n",
       "      <th>Open</th>\n",
       "      <th>High</th>\n",
       "      <th>Low</th>\n",
       "      <th>Close</th>\n",
       "      <th>Adj Close</th>\n",
       "      <th>Volume</th>\n",
       "      <th>source</th>\n",
       "      <th>Year</th>\n",
       "      <th>Close_lag_1</th>\n",
       "      <th>Returns</th>\n",
       "    </tr>\n",
       "    <tr>\n",
       "      <th>npartitions=60</th>\n",
       "      <th></th>\n",
       "      <th></th>\n",
       "      <th></th>\n",
       "      <th></th>\n",
       "      <th></th>\n",
       "      <th></th>\n",
       "      <th></th>\n",
       "      <th></th>\n",
       "      <th></th>\n",
       "      <th></th>\n",
       "      <th></th>\n",
       "    </tr>\n",
       "  </thead>\n",
       "  <tbody>\n",
       "    <tr>\n",
       "      <th>A</th>\n",
       "      <td>datetime64[ns]</td>\n",
       "      <td>float64</td>\n",
       "      <td>float64</td>\n",
       "      <td>float64</td>\n",
       "      <td>float64</td>\n",
       "      <td>float64</td>\n",
       "      <td>float64</td>\n",
       "      <td>string</td>\n",
       "      <td>int32</td>\n",
       "      <td>float64</td>\n",
       "      <td>float64</td>\n",
       "    </tr>\n",
       "    <tr>\n",
       "      <th>ACB</th>\n",
       "      <td>...</td>\n",
       "      <td>...</td>\n",
       "      <td>...</td>\n",
       "      <td>...</td>\n",
       "      <td>...</td>\n",
       "      <td>...</td>\n",
       "      <td>...</td>\n",
       "      <td>...</td>\n",
       "      <td>...</td>\n",
       "      <td>...</td>\n",
       "      <td>...</td>\n",
       "    </tr>\n",
       "    <tr>\n",
       "      <th>...</th>\n",
       "      <td>...</td>\n",
       "      <td>...</td>\n",
       "      <td>...</td>\n",
       "      <td>...</td>\n",
       "      <td>...</td>\n",
       "      <td>...</td>\n",
       "      <td>...</td>\n",
       "      <td>...</td>\n",
       "      <td>...</td>\n",
       "      <td>...</td>\n",
       "      <td>...</td>\n",
       "    </tr>\n",
       "    <tr>\n",
       "      <th>ZEUS</th>\n",
       "      <td>...</td>\n",
       "      <td>...</td>\n",
       "      <td>...</td>\n",
       "      <td>...</td>\n",
       "      <td>...</td>\n",
       "      <td>...</td>\n",
       "      <td>...</td>\n",
       "      <td>...</td>\n",
       "      <td>...</td>\n",
       "      <td>...</td>\n",
       "      <td>...</td>\n",
       "    </tr>\n",
       "    <tr>\n",
       "      <th>ZEUS</th>\n",
       "      <td>...</td>\n",
       "      <td>...</td>\n",
       "      <td>...</td>\n",
       "      <td>...</td>\n",
       "      <td>...</td>\n",
       "      <td>...</td>\n",
       "      <td>...</td>\n",
       "      <td>...</td>\n",
       "      <td>...</td>\n",
       "      <td>...</td>\n",
       "      <td>...</td>\n",
       "    </tr>\n",
       "  </tbody>\n",
       "</table>\n",
       "<div>Dask Name: assign, 9 expressions</div>"
      ],
      "text/plain": [
       "Dask DataFrame Structure:\n",
       "                          Date     Open     High      Low    Close Adj Close   Volume  source   Year Close_lag_1  Returns\n",
       "npartitions=60                                                                                                           \n",
       "A               datetime64[ns]  float64  float64  float64  float64   float64  float64  string  int32     float64  float64\n",
       "ACB                        ...      ...      ...      ...      ...       ...      ...     ...    ...         ...      ...\n",
       "...                        ...      ...      ...      ...      ...       ...      ...     ...    ...         ...      ...\n",
       "ZEUS                       ...      ...      ...      ...      ...       ...      ...     ...    ...         ...      ...\n",
       "ZEUS                       ...      ...      ...      ...      ...       ...      ...     ...    ...         ...      ...\n",
       "Dask Name: assign, 9 expressions\n",
       "Expr=Assign(frame=Assign(frame=GroupByApply(frame=SetIndex(frame=ReadParquetFSSpec(66e4c93), _other='ticker', options={}), observed=False, group_keys=False, func=<function <lambda> at 0x15d8fd940>, meta=<no_default>, args=(), kwargs={})))"
      ]
     },
     "execution_count": 18,
     "metadata": {},
     "output_type": "execute_result"
    }
   ],
   "source": [
    "dd_rets"
   ]
  },
  {
   "cell_type": "markdown",
   "metadata": {},
   "source": [
    "+ Dask is a lazy execution framework: commands will not execute until they are required. \n",
    "+ To trigger an execution in dask use `.compute()`."
   ]
  },
  {
   "cell_type": "code",
   "execution_count": 19,
   "metadata": {},
   "outputs": [
    {
     "data": {
      "text/html": [
       "<div>\n",
       "<style scoped>\n",
       "    .dataframe tbody tr th:only-of-type {\n",
       "        vertical-align: middle;\n",
       "    }\n",
       "\n",
       "    .dataframe tbody tr th {\n",
       "        vertical-align: top;\n",
       "    }\n",
       "\n",
       "    .dataframe thead th {\n",
       "        text-align: right;\n",
       "    }\n",
       "</style>\n",
       "<table border=\"1\" class=\"dataframe\">\n",
       "  <thead>\n",
       "    <tr style=\"text-align: right;\">\n",
       "      <th></th>\n",
       "      <th>Date</th>\n",
       "      <th>Open</th>\n",
       "      <th>High</th>\n",
       "      <th>Low</th>\n",
       "      <th>Close</th>\n",
       "      <th>Adj Close</th>\n",
       "      <th>Volume</th>\n",
       "      <th>source</th>\n",
       "      <th>Year</th>\n",
       "      <th>Close_lag_1</th>\n",
       "      <th>Returns</th>\n",
       "    </tr>\n",
       "    <tr>\n",
       "      <th>ticker</th>\n",
       "      <th></th>\n",
       "      <th></th>\n",
       "      <th></th>\n",
       "      <th></th>\n",
       "      <th></th>\n",
       "      <th></th>\n",
       "      <th></th>\n",
       "      <th></th>\n",
       "      <th></th>\n",
       "      <th></th>\n",
       "      <th></th>\n",
       "    </tr>\n",
       "  </thead>\n",
       "  <tbody>\n",
       "    <tr>\n",
       "      <th>A</th>\n",
       "      <td>1999-11-18</td>\n",
       "      <td>32.546494</td>\n",
       "      <td>35.765381</td>\n",
       "      <td>28.612303</td>\n",
       "      <td>31.473534</td>\n",
       "      <td>27.068665</td>\n",
       "      <td>62546300.0</td>\n",
       "      <td>A.csv</td>\n",
       "      <td>1999</td>\n",
       "      <td>NaN</td>\n",
       "      <td>NaN</td>\n",
       "    </tr>\n",
       "    <tr>\n",
       "      <th>A</th>\n",
       "      <td>1999-11-19</td>\n",
       "      <td>30.713520</td>\n",
       "      <td>30.758226</td>\n",
       "      <td>28.478184</td>\n",
       "      <td>28.880543</td>\n",
       "      <td>24.838577</td>\n",
       "      <td>15234100.0</td>\n",
       "      <td>A.csv</td>\n",
       "      <td>1999</td>\n",
       "      <td>31.473534</td>\n",
       "      <td>-0.082386</td>\n",
       "    </tr>\n",
       "    <tr>\n",
       "      <th>A</th>\n",
       "      <td>1999-11-22</td>\n",
       "      <td>29.551144</td>\n",
       "      <td>31.473534</td>\n",
       "      <td>28.657009</td>\n",
       "      <td>31.473534</td>\n",
       "      <td>27.068665</td>\n",
       "      <td>6577800.0</td>\n",
       "      <td>A.csv</td>\n",
       "      <td>1999</td>\n",
       "      <td>28.880543</td>\n",
       "      <td>0.089783</td>\n",
       "    </tr>\n",
       "    <tr>\n",
       "      <th>A</th>\n",
       "      <td>1999-11-23</td>\n",
       "      <td>30.400572</td>\n",
       "      <td>31.205294</td>\n",
       "      <td>28.612303</td>\n",
       "      <td>28.612303</td>\n",
       "      <td>24.607880</td>\n",
       "      <td>5975600.0</td>\n",
       "      <td>A.csv</td>\n",
       "      <td>1999</td>\n",
       "      <td>31.473534</td>\n",
       "      <td>-0.090909</td>\n",
       "    </tr>\n",
       "    <tr>\n",
       "      <th>A</th>\n",
       "      <td>1999-11-24</td>\n",
       "      <td>28.701717</td>\n",
       "      <td>29.998211</td>\n",
       "      <td>28.612303</td>\n",
       "      <td>29.372318</td>\n",
       "      <td>25.261524</td>\n",
       "      <td>4843200.0</td>\n",
       "      <td>A.csv</td>\n",
       "      <td>1999</td>\n",
       "      <td>28.612303</td>\n",
       "      <td>0.026563</td>\n",
       "    </tr>\n",
       "    <tr>\n",
       "      <th>...</th>\n",
       "      <td>...</td>\n",
       "      <td>...</td>\n",
       "      <td>...</td>\n",
       "      <td>...</td>\n",
       "      <td>...</td>\n",
       "      <td>...</td>\n",
       "      <td>...</td>\n",
       "      <td>...</td>\n",
       "      <td>...</td>\n",
       "      <td>...</td>\n",
       "      <td>...</td>\n",
       "    </tr>\n",
       "    <tr>\n",
       "      <th>ZEUS</th>\n",
       "      <td>2020-03-26</td>\n",
       "      <td>9.610000</td>\n",
       "      <td>9.940000</td>\n",
       "      <td>9.260000</td>\n",
       "      <td>9.590000</td>\n",
       "      <td>9.590000</td>\n",
       "      <td>60500.0</td>\n",
       "      <td>ZEUS.csv</td>\n",
       "      <td>2020</td>\n",
       "      <td>9.670000</td>\n",
       "      <td>-0.008273</td>\n",
       "    </tr>\n",
       "    <tr>\n",
       "      <th>ZEUS</th>\n",
       "      <td>2020-03-27</td>\n",
       "      <td>9.330000</td>\n",
       "      <td>9.330000</td>\n",
       "      <td>8.700000</td>\n",
       "      <td>8.700000</td>\n",
       "      <td>8.700000</td>\n",
       "      <td>52900.0</td>\n",
       "      <td>ZEUS.csv</td>\n",
       "      <td>2020</td>\n",
       "      <td>9.590000</td>\n",
       "      <td>-0.092805</td>\n",
       "    </tr>\n",
       "    <tr>\n",
       "      <th>ZEUS</th>\n",
       "      <td>2020-03-30</td>\n",
       "      <td>8.810000</td>\n",
       "      <td>9.760000</td>\n",
       "      <td>8.700000</td>\n",
       "      <td>9.680000</td>\n",
       "      <td>9.680000</td>\n",
       "      <td>73700.0</td>\n",
       "      <td>ZEUS.csv</td>\n",
       "      <td>2020</td>\n",
       "      <td>8.700000</td>\n",
       "      <td>0.112644</td>\n",
       "    </tr>\n",
       "    <tr>\n",
       "      <th>ZEUS</th>\n",
       "      <td>2020-03-31</td>\n",
       "      <td>9.640000</td>\n",
       "      <td>10.470000</td>\n",
       "      <td>9.590000</td>\n",
       "      <td>10.350000</td>\n",
       "      <td>10.350000</td>\n",
       "      <td>68900.0</td>\n",
       "      <td>ZEUS.csv</td>\n",
       "      <td>2020</td>\n",
       "      <td>9.680000</td>\n",
       "      <td>0.069215</td>\n",
       "    </tr>\n",
       "    <tr>\n",
       "      <th>ZEUS</th>\n",
       "      <td>2020-04-01</td>\n",
       "      <td>10.140000</td>\n",
       "      <td>10.340000</td>\n",
       "      <td>9.310000</td>\n",
       "      <td>9.470000</td>\n",
       "      <td>9.470000</td>\n",
       "      <td>34000.0</td>\n",
       "      <td>ZEUS.csv</td>\n",
       "      <td>2020</td>\n",
       "      <td>10.350000</td>\n",
       "      <td>-0.085024</td>\n",
       "    </tr>\n",
       "  </tbody>\n",
       "</table>\n",
       "<p>230273 rows × 11 columns</p>\n",
       "</div>"
      ],
      "text/plain": [
       "             Date       Open       High        Low      Close  Adj Close  \\\n",
       "ticker                                                                     \n",
       "A      1999-11-18  32.546494  35.765381  28.612303  31.473534  27.068665   \n",
       "A      1999-11-19  30.713520  30.758226  28.478184  28.880543  24.838577   \n",
       "A      1999-11-22  29.551144  31.473534  28.657009  31.473534  27.068665   \n",
       "A      1999-11-23  30.400572  31.205294  28.612303  28.612303  24.607880   \n",
       "A      1999-11-24  28.701717  29.998211  28.612303  29.372318  25.261524   \n",
       "...           ...        ...        ...        ...        ...        ...   \n",
       "ZEUS   2020-03-26   9.610000   9.940000   9.260000   9.590000   9.590000   \n",
       "ZEUS   2020-03-27   9.330000   9.330000   8.700000   8.700000   8.700000   \n",
       "ZEUS   2020-03-30   8.810000   9.760000   8.700000   9.680000   9.680000   \n",
       "ZEUS   2020-03-31   9.640000  10.470000   9.590000  10.350000  10.350000   \n",
       "ZEUS   2020-04-01  10.140000  10.340000   9.310000   9.470000   9.470000   \n",
       "\n",
       "            Volume    source  Year  Close_lag_1   Returns  \n",
       "ticker                                                     \n",
       "A       62546300.0     A.csv  1999          NaN       NaN  \n",
       "A       15234100.0     A.csv  1999    31.473534 -0.082386  \n",
       "A        6577800.0     A.csv  1999    28.880543  0.089783  \n",
       "A        5975600.0     A.csv  1999    31.473534 -0.090909  \n",
       "A        4843200.0     A.csv  1999    28.612303  0.026563  \n",
       "...            ...       ...   ...          ...       ...  \n",
       "ZEUS       60500.0  ZEUS.csv  2020     9.670000 -0.008273  \n",
       "ZEUS       52900.0  ZEUS.csv  2020     9.590000 -0.092805  \n",
       "ZEUS       73700.0  ZEUS.csv  2020     8.700000  0.112644  \n",
       "ZEUS       68900.0  ZEUS.csv  2020     9.680000  0.069215  \n",
       "ZEUS       34000.0  ZEUS.csv  2020    10.350000 -0.085024  \n",
       "\n",
       "[230273 rows x 11 columns]"
      ]
     },
     "execution_count": 19,
     "metadata": {},
     "output_type": "execute_result"
    }
   ],
   "source": [
    "dd_rets.compute()"
   ]
  },
  {
   "cell_type": "markdown",
   "metadata": {},
   "source": [
    "## Save\n",
    "\n",
    "+ Apply transformations to calculate daily returns\n",
    "+ Store the enriched data, the silver dataset, in a new directory.\n",
    "+ Should we keep the same namespace? All columns?"
   ]
  },
  {
   "cell_type": "code",
   "execution_count": 20,
   "metadata": {},
   "outputs": [],
   "source": [
    "# CLean up before save\n",
    "FEATURES_DATA = os.getenv(\"FEATURES_DATA\")\n",
    "if os.path.exists(FEATURES_DATA):\n",
    "    shutil.rmtree(FEATURES_DATA)\n",
    "dd_rets.to_parquet(FEATURES_DATA, overwrite = True)"
   ]
  },
  {
   "cell_type": "markdown",
   "metadata": {},
   "source": [
    "# Optional: from Jupyter to Command Line\n",
    "\n",
    "+ We have drafted our code in a Jupyter Notebook. \n",
    "+ Finalized code should be written in Python modules.\n",
    "\n",
    "## Object Oriented vs Functional Programming\n",
    "\n",
    "+ We can use classes to keep parameters and functions together.\n",
    "+ We *could* use Object Oriented Programming, but parallelization of data manipulation and modelling tasks benefit from *Functional Programming*.\n",
    "+ An Idea: \n",
    "\n",
    "    - [Data Oriented Programming](https://blog.klipse.tech/dop/2022/06/22/principles-of-dop.html).\n",
    "    - Use the class to bundle together parameters and functions.\n",
    "    - Use stateless operations and treat all data objects as immutable (we do not modify them, we overwrite them).\n",
    "    - Take advantage of [`@staticmethod`](https://realpython.com/instance-class-and-static-methods-demystified/).\n",
    "\n",
    "The code is in `./05_src/stock_prices/data_manager.py`."
   ]
  },
  {
   "cell_type": "markdown",
   "metadata": {},
   "source": [
    "Our original design was:\n",
    "\n",
    "![](./images/02_target_pipeline_manager.png)\n",
    "\n"
   ]
  },
  {
   "cell_type": "code",
   "execution_count": 21,
   "metadata": {},
   "outputs": [],
   "source": [
    "from stock_prices.data_manager import DataManager\n",
    "dm = DataManager()"
   ]
  },
  {
   "cell_type": "markdown",
   "metadata": {},
   "source": [
    "Download all prices."
   ]
  },
  {
   "cell_type": "code",
   "execution_count": 22,
   "metadata": {},
   "outputs": [
    {
     "name": "stderr",
     "output_type": "stream",
     "text": [
      "2025-06-07 12:00:56,561, data_manager.py, 53, INFO, Processing sample of tickers\n",
      "2025-06-07 12:00:56,561, data_manager.py, 64, INFO, Getting file list from ../../05_src/data/prices_csv/\n",
      "2025-06-07 12:00:56,583, data_manager.py, 66, INFO, Found 5884 files in ../../05_src/data/prices/\n",
      "2025-06-07 12:00:56,583, data_manager.py, 74, INFO, Selecting sample of files\n",
      "2025-06-07 12:00:56,584, data_manager.py, 80, INFO, Selected 30 files\n",
      "2025-06-07 12:00:56,584, data_manager.py, 90, INFO, Processing file ../../05_src/data/prices_csv/stocks/FMCIU.csv\n",
      "2025-06-07 12:00:56,585, data_manager.py, 118, INFO, Reading file: ../../05_src/data/prices_csv/stocks/FMCIU.csv\n",
      "2025-06-07 12:00:56,588, data_manager.py, 101, INFO, Saving data by year\n",
      "2025-06-07 12:00:56,637, data_manager.py, 90, INFO, Processing file ../../05_src/data/prices_csv/stocks/FAMI.csv\n",
      "2025-06-07 12:00:56,637, data_manager.py, 118, INFO, Reading file: ../../05_src/data/prices_csv/stocks/FAMI.csv\n",
      "2025-06-07 12:00:56,640, data_manager.py, 101, INFO, Saving data by year\n",
      "2025-06-07 12:00:56,685, data_manager.py, 90, INFO, Processing file ../../05_src/data/prices_csv/stocks/SNES.csv\n",
      "2025-06-07 12:00:56,686, data_manager.py, 118, INFO, Reading file: ../../05_src/data/prices_csv/stocks/SNES.csv\n",
      "2025-06-07 12:00:56,690, data_manager.py, 101, INFO, Saving data by year\n",
      "2025-06-07 12:00:56,764, data_manager.py, 90, INFO, Processing file ../../05_src/data/prices_csv/stocks/ZIOP.csv\n",
      "2025-06-07 12:00:56,764, data_manager.py, 118, INFO, Reading file: ../../05_src/data/prices_csv/stocks/ZIOP.csv\n",
      "2025-06-07 12:00:56,771, data_manager.py, 101, INFO, Saving data by year\n",
      "2025-06-07 12:00:57,004, data_manager.py, 90, INFO, Processing file ../../05_src/data/prices_csv/stocks/MAA.csv\n",
      "2025-06-07 12:00:57,005, data_manager.py, 118, INFO, Reading file: ../../05_src/data/prices_csv/stocks/MAA.csv\n",
      "2025-06-07 12:00:57,014, data_manager.py, 101, INFO, Saving data by year\n",
      "2025-06-07 12:00:57,405, data_manager.py, 90, INFO, Processing file ../../05_src/data/prices_csv/stocks/RA.csv\n",
      "2025-06-07 12:00:57,406, data_manager.py, 118, INFO, Reading file: ../../05_src/data/prices_csv/stocks/RA.csv\n",
      "2025-06-07 12:00:57,409, data_manager.py, 101, INFO, Saving data by year\n",
      "2025-06-07 12:00:57,483, data_manager.py, 90, INFO, Processing file ../../05_src/data/prices_csv/stocks/ILPT.csv\n",
      "2025-06-07 12:00:57,483, data_manager.py, 118, INFO, Reading file: ../../05_src/data/prices_csv/stocks/ILPT.csv\n",
      "2025-06-07 12:00:57,487, data_manager.py, 101, INFO, Saving data by year\n",
      "2025-06-07 12:00:57,532, data_manager.py, 90, INFO, Processing file ../../05_src/data/prices_csv/stocks/LBRDK.csv\n",
      "2025-06-07 12:00:57,532, data_manager.py, 118, INFO, Reading file: ../../05_src/data/prices_csv/stocks/LBRDK.csv\n",
      "2025-06-07 12:00:57,536, data_manager.py, 101, INFO, Saving data by year\n",
      "2025-06-07 12:00:57,636, data_manager.py, 90, INFO, Processing file ../../05_src/data/prices_csv/stocks/BHAT.csv\n",
      "2025-06-07 12:00:57,637, data_manager.py, 118, INFO, Reading file: ../../05_src/data/prices_csv/stocks/BHAT.csv\n",
      "2025-06-07 12:00:57,642, data_manager.py, 101, INFO, Saving data by year\n",
      "2025-06-07 12:00:57,843, data_manager.py, 90, INFO, Processing file ../../05_src/data/prices_csv/stocks/VER.csv\n",
      "2025-06-07 12:00:57,843, data_manager.py, 118, INFO, Reading file: ../../05_src/data/prices_csv/stocks/VER.csv\n",
      "2025-06-07 12:00:57,851, data_manager.py, 101, INFO, Saving data by year\n",
      "2025-06-07 12:00:58,163, data_manager.py, 90, INFO, Processing file ../../05_src/data/prices_csv/stocks/ASTC.csv\n",
      "2025-06-07 12:00:58,164, data_manager.py, 118, INFO, Reading file: ../../05_src/data/prices_csv/stocks/ASTC.csv\n",
      "2025-06-07 12:00:58,172, data_manager.py, 101, INFO, Saving data by year\n",
      "2025-06-07 12:00:58,545, data_manager.py, 90, INFO, Processing file ../../05_src/data/prices_csv/stocks/MXL.csv\n",
      "2025-06-07 12:00:58,545, data_manager.py, 118, INFO, Reading file: ../../05_src/data/prices_csv/stocks/MXL.csv\n",
      "2025-06-07 12:00:58,551, data_manager.py, 101, INFO, Saving data by year\n",
      "2025-06-07 12:00:58,707, data_manager.py, 90, INFO, Processing file ../../05_src/data/prices_csv/stocks/TWIN.csv\n",
      "2025-06-07 12:00:58,707, data_manager.py, 118, INFO, Reading file: ../../05_src/data/prices_csv/stocks/TWIN.csv\n",
      "2025-06-07 12:00:58,719, data_manager.py, 101, INFO, Saving data by year\n",
      "2025-06-07 12:00:59,332, data_manager.py, 90, INFO, Processing file ../../05_src/data/prices_csv/stocks/FEDU.csv\n",
      "2025-06-07 12:00:59,333, data_manager.py, 118, INFO, Reading file: ../../05_src/data/prices_csv/stocks/FEDU.csv\n",
      "2025-06-07 12:00:59,336, data_manager.py, 101, INFO, Saving data by year\n",
      "2025-06-07 12:00:59,395, data_manager.py, 90, INFO, Processing file ../../05_src/data/prices_csv/stocks/VSH.csv\n",
      "2025-06-07 12:00:59,396, data_manager.py, 118, INFO, Reading file: ../../05_src/data/prices_csv/stocks/VSH.csv\n",
      "2025-06-07 12:00:59,409, data_manager.py, 101, INFO, Saving data by year\n",
      "2025-06-07 12:01:00,018, data_manager.py, 90, INFO, Processing file ../../05_src/data/prices_csv/stocks/FFA.csv\n",
      "2025-06-07 12:01:00,018, data_manager.py, 118, INFO, Reading file: ../../05_src/data/prices_csv/stocks/FFA.csv\n",
      "2025-06-07 12:01:00,026, data_manager.py, 101, INFO, Saving data by year\n",
      "2025-06-07 12:01:00,272, data_manager.py, 90, INFO, Processing file ../../05_src/data/prices_csv/stocks/KIM.csv\n",
      "2025-06-07 12:01:00,272, data_manager.py, 118, INFO, Reading file: ../../05_src/data/prices_csv/stocks/KIM.csv\n",
      "2025-06-07 12:01:00,283, data_manager.py, 101, INFO, Saving data by year\n",
      "2025-06-07 12:01:00,706, data_manager.py, 90, INFO, Processing file ../../05_src/data/prices_csv/stocks/UG.csv\n",
      "2025-06-07 12:01:00,707, data_manager.py, 118, INFO, Reading file: ../../05_src/data/prices_csv/stocks/UG.csv\n",
      "2025-06-07 12:01:00,719, data_manager.py, 101, INFO, Saving data by year\n",
      "2025-06-07 12:01:01,302, data_manager.py, 90, INFO, Processing file ../../05_src/data/prices_csv/stocks/SOLO.csv\n",
      "2025-06-07 12:01:01,302, data_manager.py, 118, INFO, Reading file: ../../05_src/data/prices_csv/stocks/SOLO.csv\n",
      "2025-06-07 12:01:01,305, data_manager.py, 101, INFO, Saving data by year\n",
      "2025-06-07 12:01:01,349, data_manager.py, 90, INFO, Processing file ../../05_src/data/prices_csv/stocks/GWGH.csv\n",
      "2025-06-07 12:01:01,350, data_manager.py, 118, INFO, Reading file: ../../05_src/data/prices_csv/stocks/GWGH.csv\n",
      "2025-06-07 12:01:01,354, data_manager.py, 101, INFO, Saving data by year\n",
      "2025-06-07 12:01:01,456, data_manager.py, 90, INFO, Processing file ../../05_src/data/prices_csv/stocks/FIEE.csv\n",
      "2025-06-07 12:01:01,456, data_manager.py, 118, INFO, Reading file: ../../05_src/data/prices_csv/stocks/FIEE.csv\n",
      "2025-06-07 12:01:01,460, data_manager.py, 101, INFO, Saving data by year\n",
      "2025-06-07 12:01:01,533, data_manager.py, 90, INFO, Processing file ../../05_src/data/prices_csv/stocks/PIY.csv\n",
      "2025-06-07 12:01:01,534, data_manager.py, 118, INFO, Reading file: ../../05_src/data/prices_csv/stocks/PIY.csv\n",
      "2025-06-07 12:01:01,541, data_manager.py, 101, INFO, Saving data by year\n",
      "2025-06-07 12:01:01,832, data_manager.py, 90, INFO, Processing file ../../05_src/data/prices_csv/stocks/RPT.csv\n",
      "2025-06-07 12:01:01,833, data_manager.py, 118, INFO, Reading file: ../../05_src/data/prices_csv/stocks/RPT.csv\n",
      "2025-06-07 12:01:01,844, data_manager.py, 101, INFO, Saving data by year\n",
      "2025-06-07 12:01:02,312, data_manager.py, 90, INFO, Processing file ../../05_src/data/prices_csv/stocks/IMTE.csv\n",
      "2025-06-07 12:01:02,313, data_manager.py, 118, INFO, Reading file: ../../05_src/data/prices_csv/stocks/IMTE.csv\n",
      "2025-06-07 12:01:02,316, data_manager.py, 101, INFO, Saving data by year\n",
      "2025-06-07 12:01:02,375, data_manager.py, 90, INFO, Processing file ../../05_src/data/prices_csv/stocks/DTUL.csv\n",
      "2025-06-07 12:01:02,376, data_manager.py, 118, INFO, Reading file: ../../05_src/data/prices_csv/stocks/DTUL.csv\n",
      "2025-06-07 12:01:02,381, data_manager.py, 101, INFO, Saving data by year\n",
      "2025-06-07 12:01:02,539, data_manager.py, 90, INFO, Processing file ../../05_src/data/prices_csv/stocks/NMZ.csv\n",
      "2025-06-07 12:01:02,539, data_manager.py, 118, INFO, Reading file: ../../05_src/data/prices_csv/stocks/NMZ.csv\n",
      "2025-06-07 12:01:02,547, data_manager.py, 101, INFO, Saving data by year\n",
      "2025-06-07 12:01:02,804, data_manager.py, 90, INFO, Processing file ../../05_src/data/prices_csv/stocks/PETS.csv\n",
      "2025-06-07 12:01:02,805, data_manager.py, 118, INFO, Reading file: ../../05_src/data/prices_csv/stocks/PETS.csv\n",
      "2025-06-07 12:01:02,813, data_manager.py, 101, INFO, Saving data by year\n",
      "2025-06-07 12:01:03,122, data_manager.py, 90, INFO, Processing file ../../05_src/data/prices_csv/stocks/CTRC.csv\n",
      "2025-06-07 12:01:03,123, data_manager.py, 118, INFO, Reading file: ../../05_src/data/prices_csv/stocks/CTRC.csv\n",
      "2025-06-07 12:01:03,133, data_manager.py, 101, INFO, Saving data by year\n",
      "2025-06-07 12:01:03,596, data_manager.py, 90, INFO, Processing file ../../05_src/data/prices_csv/stocks/SPH.csv\n",
      "2025-06-07 12:01:03,596, data_manager.py, 118, INFO, Reading file: ../../05_src/data/prices_csv/stocks/SPH.csv\n",
      "2025-06-07 12:01:03,605, data_manager.py, 101, INFO, Saving data by year\n",
      "2025-06-07 12:01:03,961, data_manager.py, 90, INFO, Processing file ../../05_src/data/prices_csv/stocks/ATV.csv\n",
      "2025-06-07 12:01:03,961, data_manager.py, 118, INFO, Reading file: ../../05_src/data/prices_csv/stocks/ATV.csv\n",
      "2025-06-07 12:01:03,967, data_manager.py, 101, INFO, Saving data by year\n"
     ]
    }
   ],
   "source": [
    "dm.process_sample_files()"
   ]
  },
  {
   "cell_type": "markdown",
   "metadata": {},
   "source": [
    "Finally, add features to the data set and save to a *feature store*."
   ]
  },
  {
   "cell_type": "code",
   "execution_count": 23,
   "metadata": {},
   "outputs": [
    {
     "name": "stderr",
     "output_type": "stream",
     "text": [
      "2025-06-07 12:01:04,202, data_manager.py, 131, INFO, Creating features data.\n",
      "2025-06-07 12:01:04,203, data_manager.py, 141, INFO, Loading price data from ../../05_src/data/prices/\n",
      "2025-06-07 12:01:04,421, data_manager.py, 150, INFO, Creating features\n",
      "/Users/hamidbaniasadi/production/01_materials/labs/../../05_src/stock_prices/data_manager.py:153: UserWarning: `meta` is not specified, inferred from partial data. Please provide `meta` if the result is unexpected.\n",
      "  Before: .apply(func)\n",
      "  After:  .apply(func, meta={'x': 'f8', 'y': 'f8'}) for dataframe result\n",
      "  or:     .apply(func, meta=('x', 'f8'))            for series result\n",
      "  features = (price_dd.groupby('ticker', group_keys=False)\n",
      "2025-06-07 12:01:04,426, data_manager.py, 175, INFO, Saving features to ../../05_src/data/features/stock_features\n"
     ]
    }
   ],
   "source": [
    "dm.featurize()"
   ]
  }
 ],
 "metadata": {
  "kernelspec": {
   "display_name": "dsi_participant",
   "language": "python",
   "name": "python3"
  },
  "language_info": {
   "codemirror_mode": {
    "name": "ipython",
    "version": 3
   },
   "file_extension": ".py",
   "mimetype": "text/x-python",
   "name": "python",
   "nbconvert_exporter": "python",
   "pygments_lexer": "ipython3",
   "version": "3.9.7"
  }
 },
 "nbformat": 4,
 "nbformat_minor": 2
}
