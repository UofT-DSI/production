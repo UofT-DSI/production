{
 "cells": [
  {
   "cell_type": "markdown",
   "metadata": {},
   "source": [
    "# Working with parquet files\n",
    "\n",
    "## Objective\n",
    "\n",
    "+ In this assignment, we will use the data downloaded with the module `data_manager` to create features.\n",
    "\n",
    "(11 pts total)\n",
    "\n",
    "## Prerequisites\n",
    "\n",
    "+ This notebook assumes that price data is available to you in the environment variable `PRICE_DATA`. If you have not done so, then execute the notebook `01_materials/labs/2_data_engineering.ipynb` to create this data set.\n"
   ]
  },
  {
   "cell_type": "markdown",
   "metadata": {},
   "source": [
    "+ Load the environment variables using dotenv. (1 pt)"
   ]
  },
  {
   "cell_type": "code",
   "execution_count": 7,
   "metadata": {},
   "outputs": [
    {
     "name": "stdout",
     "output_type": "stream",
     "text": [
      "The dotenv extension is already loaded. To reload it, use:\n",
      "  %reload_ext dotenv\n"
     ]
    }
   ],
   "source": [
    "# Write your code below.\n",
    "%load_ext dotenv\n",
    "%dotenv \n",
    "\n"
   ]
  },
  {
   "cell_type": "code",
   "execution_count": 8,
   "metadata": {},
   "outputs": [],
   "source": [
    "import dask.dataframe as dd"
   ]
  },
  {
   "cell_type": "markdown",
   "metadata": {},
   "source": [
    "+ Load the environment variable `PRICE_DATA`.\n",
    "+ Use [glob](https://docs.python.org/3/library/glob.html) to find the path of all parquet files in the directory `PRICE_DATA`.\n",
    "\n",
    "(1pt)"
   ]
  },
  {
   "cell_type": "code",
   "execution_count": 9,
   "metadata": {},
   "outputs": [
    {
     "data": {
      "text/plain": [
       "2859"
      ]
     },
     "execution_count": 9,
     "metadata": {},
     "output_type": "execute_result"
    }
   ],
   "source": [
    "import os\n",
    "from glob import glob\n",
    "\n",
    "# Write your code below.\n",
    "price_data = glob(os.path.join(os.getenv('SRC_DIR'), \"data\",\"prices\",\"*\",\"*\",\"*.parquet\"))\n",
    "\n",
    "len(price_data)\n"
   ]
  },
  {
   "cell_type": "markdown",
   "metadata": {},
   "source": [
    "For each ticker and using Dask, do the following:\n",
    "\n",
    "+ Add lags for variables Close and Adj_Close.\n",
    "+ Add returns based on Close:\n",
    "    \n",
    "    - `returns`: (Close / Close_lag_1) - 1\n",
    "\n",
    "+ Add the following range: \n",
    "\n",
    "    - `hi_lo_range`: this is the day's High minus Low.\n",
    "\n",
    "+ Assign the result to `dd_feat`.\n",
    "\n",
    "(4 pt)"
   ]
  },
  {
   "cell_type": "code",
   "execution_count": null,
   "metadata": {},
   "outputs": [
    {
     "name": "stderr",
     "output_type": "stream",
     "text": [
      "c:\\Users\\semih\\miniconda3\\envs\\dsi_participant\\lib\\site-packages\\dask\\dataframe\\io\\parquet\\core.py:428: FutureWarning: ``gather_statistics`` is deprecated and will be removed in a future release. Please use ``calculate_divisions`` instead.\n",
      "  warnings.warn(\n"
     ]
    },
    {
     "name": "stdout",
     "output_type": "stream",
     "text": [
      "             Date   Open   High    Low  Close  Adj Close      Volume   source  \\\n",
      "137315 2001-07-19  15.10  15.29  15.00  15.17  11.404394  34994300.0  ACN.csv   \n",
      "137316 2001-07-20  15.05  15.05  14.80  15.01  11.284108   9238500.0  ACN.csv   \n",
      "137317 2001-07-23  15.00  15.01  14.55  15.00  11.276587   7501000.0  ACN.csv   \n",
      "137318 2001-07-24  14.95  14.97  14.70  14.86  11.171341   3537300.0  ACN.csv   \n",
      "137319 2001-07-25  14.70  14.95  14.65  14.95  11.238999   4208100.0  ACN.csv   \n",
      "\n",
      "       ticker  Year  \n",
      "137315    ACN  2001  \n",
      "137316    ACN  2001  \n",
      "137317    ACN  2001  \n",
      "137318    ACN  2001  \n",
      "137319    ACN  2001  \n"
     ]
    },
    {
     "name": "stderr",
     "output_type": "stream",
     "text": [
      "c:\\Users\\semih\\miniconda3\\envs\\dsi_participant\\lib\\site-packages\\dask\\dataframe\\groupby.py:2454: FutureWarning: DataFrameGroupBy.apply operated on the grouping columns. This behavior is deprecated, and in a future version of pandas the grouping columns will be excluded from the operation. Either pass `include_groups=False` to exclude the groupings or explicitly select the grouping columns after groupby to silence this warning.\n",
      "  meta = self._meta_nonempty.apply(func, *meta_args, **meta_kwargs)\n",
      "C:\\Users\\semih\\AppData\\Local\\Temp\\ipykernel_19444\\586209268.py:9: UserWarning: `meta` is not specified, inferred from partial data. Please provide `meta` if the result is unexpected.\n",
      "  Before: .apply(func)\n",
      "  After:  .apply(func, meta={'x': 'f8', 'y': 'f8'}) for dataframe result\n",
      "  or:     .apply(func, meta=('x', 'f8'))            for series result\n",
      "  dd_feat = dd_px.groupby(\"ticker\", group_keys=False).apply(\n"
     ]
    }
   ],
   "source": [
    "# Write your code below.\n",
    "\n",
    "dd_px = dd.read_parquet(price_data, engine=\"pyarrow\", gather_statistics=False)\n",
    "\n",
    "#print(dd_px.head())\n",
    "\n",
    "# Apply groupby for lag features\n",
    "dd_feat = dd_px.groupby(\"ticker\", group_keys=False).apply(\n",
    "    lambda x: x.assign(\n",
    "        Close_lag_1     = x[\"Close\"].shift(1),\n",
    "        Adj_Close_lag_1 = x[\"Adj Close\"].shift(1),\n",
    "        returns         = (x[\"Close\"] / x[\"Close\"].shift(1)) - 1,\n",
    "        hi_lo_range     = x[\"High\"] - x[\"Low\"],\n",
    "    )\n",
    ")"
   ]
  },
  {
   "cell_type": "markdown",
   "metadata": {},
   "source": [
    "+ Convert the Dask data frame to a pandas data frame. \n",
    "+ Add a new feature containing the moving average of `returns` using a window of 10 days. There are several ways to solve this task, a simple one uses `.rolling(10).mean()`.\n",
    "\n",
    "(3 pt)"
   ]
  },
  {
   "cell_type": "code",
   "execution_count": null,
   "metadata": {},
   "outputs": [
    {
     "name": "stdout",
     "output_type": "stream",
     "text": [
      "<class 'pandas.core.frame.DataFrame'>\n",
      "['index', 'Date', 'Open', 'High', 'Low', 'Close', 'Adj Close', 'Volume', 'source', 'ticker', 'Year', 'Close_lag_1', 'Adj_Close_lag_1', 'returns', 'hi_lo_range']\n",
      "   index       Date       Open       High        Low      Close  Adj Close  \\\n",
      "0     28 2006-11-21  26.799999  26.840000  26.799999  26.840000  24.354116   \n",
      "1     29 2006-11-22  26.950001  26.950001  26.870001  26.889999  24.399477   \n",
      "2     30 2006-11-24  26.889999  26.889999  26.889999  26.889999  24.399477   \n",
      "3     31 2006-11-27  26.370001  26.370001  26.309999  26.309999  23.873203   \n",
      "4     32 2006-11-28  26.309999  26.309999  26.309999  26.309999  23.873203   \n",
      "\n",
      "   Volume   source ticker  Year  Close_lag_1  Adj_Close_lag_1   returns  \\\n",
      "0   500.0  PRN.csv    PRN  2006          NaN              NaN       NaN   \n",
      "1  1500.0  PRN.csv    PRN  2006    26.840000        24.354116  0.001863   \n",
      "2     0.0  PRN.csv    PRN  2006    26.889999        24.399477  0.000000   \n",
      "3  2300.0  PRN.csv    PRN  2006    26.889999        24.399477 -0.021569   \n",
      "4     0.0  PRN.csv    PRN  2006    26.309999        23.873203  0.000000   \n",
      "\n",
      "   hi_lo_range  \n",
      "0     0.040001  \n",
      "1     0.080000  \n",
      "2     0.000000  \n",
      "3     0.060001  \n",
      "4     0.000000  \n"
     ]
    }
   ],
   "source": [
    "# Write your code below.\n",
    "\n",
    "pd_table = dd_feat.reset_index().compute()\n",
    "print(type(pd_table))\n",
    "print(pd_table.columns.tolist())\n",
    "print(pd_table.head())\n",
    "assert \"returns\" in pd_table.columns\n"
   ]
  },
  {
   "cell_type": "code",
   "execution_count": 18,
   "metadata": {},
   "outputs": [
    {
     "name": "stdout",
     "output_type": "stream",
     "text": [
      "   ticker       Date   returns  returns_ma10\n",
      "0     PRN 2006-11-21       NaN           NaN\n",
      "1     PRN 2006-11-22  0.001863      0.001863\n",
      "2     PRN 2006-11-24  0.000000      0.000931\n",
      "3     PRN 2006-11-27 -0.021569     -0.006569\n",
      "4     PRN 2006-11-28  0.000000     -0.004927\n",
      "5     PRN 2006-11-29  0.012163     -0.001509\n",
      "6     PRN 2006-11-30  0.000000     -0.001257\n",
      "7     PRN 2006-12-01 -0.010514     -0.002580\n",
      "8     PRN 2006-12-04  0.018975      0.000115\n",
      "9     PRN 2006-12-05  0.011173      0.001343\n",
      "10    PRN 2006-12-06  0.000000      0.001209\n",
      "11    PRN 2006-12-07 -0.007735      0.000249\n",
      "12    PRN 2006-12-08  0.004454      0.000695\n",
      "13    PRN 2006-12-11 -0.004435      0.002408\n",
      "14    PRN 2006-12-12  0.000000      0.002408\n"
     ]
    }
   ],
   "source": [
    "ppd_table = pd_table.sort_values([\"ticker\", \"Date\"])\n",
    "# Add 10-day moving average of returns per ticker\n",
    "pd_table[\"returns_ma10\"] = (\n",
    "    pd_table.groupby(\"ticker\")[\"returns\"]\n",
    "          .transform(lambda s: s.rolling(10, min_periods=1).mean())\n",
    ")\n",
    "\n",
    "# Quick check\n",
    "print(pd_table[[\"ticker\", \"Date\", \"returns\", \"returns_ma10\"]].head(15))"
   ]
  },
  {
   "cell_type": "markdown",
   "metadata": {},
   "source": [
    "Please comment:\n",
    "\n",
    "+ Was it necessary to convert to pandas to calculate the moving average return?\n",
    "+ Would it have been better to do it in Dask? Why?\n",
    "\n",
    "(1 pt)"
   ]
  },
  {
   "cell_type": "markdown",
   "metadata": {},
   "source": [
    "I think it is necessary. I realized there are 2 parquet files in our price folder. This is because dask partitions our dataset. The moving window function works better in a continuous dataset."
   ]
  },
  {
   "cell_type": "markdown",
   "metadata": {},
   "source": [
    "## Criteria\n",
    "\n",
    "The [rubric](./assignment_1_rubric_clean.xlsx) contains the criteria for grading."
   ]
  },
  {
   "cell_type": "markdown",
   "metadata": {},
   "source": [
    "## Submission Information\n",
    "\n",
    "🚨 **Please review our [Assignment Submission Guide](https://github.com/UofT-DSI/onboarding/blob/main/onboarding_documents/submissions.md)** 🚨 for detailed instructions on how to format, branch, and submit your work. Following these guidelines is crucial for your submissions to be evaluated correctly.\n",
    "\n",
    "### Submission Parameters:\n",
    "* Submission Due Date: `HH:MM AM/PM - DD/MM/YYYY`\n",
    "* The branch name for your repo should be: `assignment-1`\n",
    "* What to submit for this assignment:\n",
    "    * This Jupyter Notebook (assignment_1.ipynb) should be populated and should be the only change in your pull request.\n",
    "* What the pull request link should look like for this assignment: `https://github.com/<your_github_username>/production/pull/<pr_id>`\n",
    "    * Open a private window in your browser. Copy and paste the link to your pull request into the address bar. Make sure you can see your pull request properly. This helps the technical facilitator and learning support staff review your submission easily.\n",
    "\n",
    "Checklist:\n",
    "- [ ] Created a branch with the correct naming convention.\n",
    "- [ ] Ensured that the repository is public.\n",
    "- [ ] Reviewed the PR description guidelines and adhered to them.\n",
    "- [ ] Verify that the link is accessible in a private browser window.\n",
    "\n",
    "If you encounter any difficulties or have questions, please don't hesitate to reach out to our team via our Slack at `#cohort-3-help`. Our Technical Facilitators and Learning Support staff are here to help you navigate any challenges."
   ]
  }
 ],
 "metadata": {
  "kernelspec": {
   "display_name": "dsi_participant",
   "language": "python",
   "name": "python3"
  },
  "language_info": {
   "codemirror_mode": {
    "name": "ipython",
    "version": 3
   },
   "file_extension": ".py",
   "mimetype": "text/x-python",
   "name": "python",
   "nbconvert_exporter": "python",
   "pygments_lexer": "ipython3",
   "version": "3.9.19"
  }
 },
 "nbformat": 4,
 "nbformat_minor": 2
}
